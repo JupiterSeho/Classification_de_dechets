{
  "cells": [
    {
      "cell_type": "markdown",
      "metadata": {
        "id": "5GYQX3of4QiW"
      },
      "source": [
        "# YOLOv5 Classification Tutorial\n",
        "\n",
        "YOLOv5 supports classification tasks too. This is the official YOLOv5 classification notebook tutorial. YOLOv5 is maintained by [Ultralytics](https://github.com/ultralytics/yolov5).\n",
        "\n",
        "This notebook covers:\n",
        "\n",
        "*   Inference with out-of-the-box YOLOv5 classification on ImageNet\n",
        "*  [Training YOLOv5 classification](https://blog.roboflow.com//train-YOLOv5-classification-custom-data) on custom data\n",
        "\n",
        "*Looking for custom data? Explore over 66M community datasets on [Roboflow Universe](https://universe.roboflow.com).*\n",
        "\n",
        "This notebook was created with Google Colab. [Click here](https://colab.research.google.com/drive/1FiSNz9f_nT8aFtDEU3iDAQKlPT8SCVni?usp=sharing) to run it."
      ]
    },
    {
      "cell_type": "markdown",
      "metadata": {
        "id": "-PJ8vlYXbWtN"
      },
      "source": [
        "# Setup\n",
        "\n",
        "Pull in respective libraries to prepare the notebook environment."
      ]
    },
    {
      "cell_type": "code",
      "execution_count": null,
      "metadata": {
        "colab": {
          "base_uri": "https://localhost:8080/"
        },
        "id": "pIM7fOwm8A7l",
        "outputId": "79d5bf02-466b-4191-9691-a7a77fa242b7"
      },
      "outputs": [
        {
          "name": "stderr",
          "output_type": "stream",
          "text": [
            "YOLOv5 🚀 v7.0-185-g2334aa7 Python-3.10.12 torch-2.0.1+cu118 CUDA:0 (Tesla T4, 15102MiB)\n"
          ]
        },
        {
          "name": "stdout",
          "output_type": "stream",
          "text": [
            "Setup complete ✅ (2 CPUs, 12.7 GB RAM, 24.5/78.2 GB disk)\n"
          ]
        }
      ],
      "source": [
        "!git clone https://github.com/ultralytics/yolov5  # clone\n",
        "%cd yolov5\n",
        "%pip install -qr requirements.txt  # install\n",
        "\n",
        "import torch\n",
        "import utils\n",
        "display = utils.notebook_init()  # checks"
      ]
    },
    {
      "cell_type": "markdown",
      "metadata": {
        "id": "i_DrUi2nmF40"
      },
      "source": [
        "# 1. Infer on ImageNet\n",
        "\n",
        "To demonstrate YOLOv5 classification, we'll leverage an already trained model. In this case, we'll download the ImageNet trained models pretrained on ImageNet using YOLOv5 Utils."
      ]
    },
    {
      "cell_type": "code",
      "execution_count": null,
      "metadata": {
        "colab": {
          "base_uri": "https://localhost:8080/"
        },
        "id": "o2scLEh6EYnL",
        "outputId": "f31463a7-4368-4a58-ad87-ee7352af7f00"
      },
      "outputs": [
        {
          "name": "stderr",
          "output_type": "stream",
          "text": [
            "Downloading https://github.com/ultralytics/yolov5/releases/download/v7.0/yolov5n-cls.pt to weights/yolov5n-cls.pt...\n",
            "100%|██████████| 4.87M/4.87M [00:00<00:00, 9.74MB/s]\n",
            "\n",
            "Downloading https://github.com/ultralytics/yolov5/releases/download/v7.0/yolov5s-cls.pt to weights/yolov5s-cls.pt...\n",
            "100%|██████████| 10.5M/10.5M [00:00<00:00, 20.6MB/s]\n",
            "\n",
            "Downloading https://github.com/ultralytics/yolov5/releases/download/v7.0/yolov5m-cls.pt to weights/yolov5m-cls.pt...\n",
            "100%|██████████| 24.9M/24.9M [00:01<00:00, 18.5MB/s]\n",
            "\n",
            "Downloading https://github.com/ultralytics/yolov5/releases/download/v7.0/yolov5l-cls.pt to weights/yolov5l-cls.pt...\n",
            "100%|██████████| 50.9M/50.9M [00:02<00:00, 20.7MB/s]\n",
            "\n",
            "Downloading https://github.com/ultralytics/yolov5/releases/download/v7.0/yolov5x-cls.pt to weights/yolov5x-cls.pt...\n",
            "100%|██████████| 92.0M/92.0M [00:06<00:00, 15.8MB/s]\n",
            "\n"
          ]
        }
      ],
      "source": [
        "from utils.downloads import attempt_download\n",
        "\n",
        "p5 = ['n', 's', 'm', 'l', 'x']  # P5 models\n",
        "cls = [f'{x}-cls' for x in p5]  # classification models\n",
        "\n",
        "for x in cls:\n",
        "    attempt_download(f'weights/yolov5{x}.pt')"
      ]
    },
    {
      "cell_type": "markdown",
      "metadata": {
        "id": "Fn2_a38DmZ2H"
      },
      "source": [
        "Now, we can infer on an example image from the ImageNet dataset."
      ]
    },
    {
      "cell_type": "code",
      "execution_count": null,
      "metadata": {
        "id": "L9objhVHnS-h"
      },
      "outputs": [],
      "source": [
        "#Download example image\n",
        "import requests\n",
        "image_url = \"https://i.imgur.com/OczPfaz.jpg\"\n",
        "img_data = requests.get(image_url).content\n",
        "with open('bananas.jpg', 'wb') as handler:\n",
        "    handler.write(img_data)"
      ]
    },
    {
      "cell_type": "code",
      "execution_count": null,
      "metadata": {
        "colab": {
          "base_uri": "https://localhost:8080/"
        },
        "id": "qqxF5pHCrLd3",
        "outputId": "ce6e4222-75ae-48b5-adbe-12f6d1011194"
      },
      "outputs": [
        {
          "name": "stdout",
          "output_type": "stream",
          "text": [
            "\u001b[34m\u001b[1mclassify/predict: \u001b[0mweights=['./weigths/yolov5s-cls.pt'], source=bananas.jpg, data=data/coco128.yaml, imgsz=[224, 224], device=, view_img=False, save_txt=False, nosave=False, augment=False, visualize=False, update=False, project=runs/predict-cls, name=exp, exist_ok=False, half=False, dnn=False, vid_stride=1\n",
            "YOLOv5 🚀 v7.0-185-g2334aa7 Python-3.10.12 torch-2.0.1+cu118 CUDA:0 (Tesla T4, 15102MiB)\n",
            "\n",
            "Downloading https://github.com/ultralytics/yolov5/releases/download/v7.0/yolov5s-cls.pt to weigths/yolov5s-cls.pt...\n",
            "100% 10.5M/10.5M [00:00<00:00, 117MB/s]\n",
            "\n",
            "Fusing layers... \n",
            "Model summary: 117 layers, 5447688 parameters, 0 gradients, 11.4 GFLOPs\n",
            "Traceback (most recent call last):\n",
            "  File \"/datasets/yolov5/yolov5/classify/predict.py\", line 226, in <module>\n",
            "    main(opt)\n",
            "  File \"/datasets/yolov5/yolov5/classify/predict.py\", line 221, in main\n",
            "    run(**vars(opt))\n",
            "  File \"/usr/local/lib/python3.10/dist-packages/torch/utils/_contextlib.py\", line 115, in decorate_context\n",
            "    return func(*args, **kwargs)\n",
            "  File \"/datasets/yolov5/yolov5/classify/predict.py\", line 109, in run\n",
            "    for path, im, im0s, vid_cap, s in dataset:\n",
            "  File \"/datasets/yolov5/yolov5/utils/dataloaders.py\", line 307, in __next__\n",
            "    im0 = cv2.imread(path)  # BGR\n",
            "  File \"/datasets/yolov5/yolov5/utils/general.py\", line 1090, in imread\n",
            "    return cv2.imdecode(np.fromfile(filename, np.uint8), flags)\n",
            "cv2.error: OpenCV(4.7.0) /io/opencv/modules/imgcodecs/src/loadsave.cpp:798: error: (-215:Assertion failed) !buf.empty() in function 'imdecode_'\n",
            "\n"
          ]
        }
      ],
      "source": [
        "#Infer using classify/predict.py\n",
        "!python classify/predict.py --weights ./weigths/yolov5s-cls.pt --source bananas.jpg"
      ]
    },
    {
      "cell_type": "markdown",
      "metadata": {
        "id": "yQmj7IXqo3kk"
      },
      "source": [
        "From the output, we can see the ImageNet trained model correctly predicts the class `banana` with `0.95` confidence."
      ]
    },
    {
      "cell_type": "markdown",
      "metadata": {
        "id": "5EosQzyDCk3W"
      },
      "source": [
        "## 2. (Optional) Validate\n",
        "\n",
        "Use the `classify/val.py` script to run validation for the model. This will show us the model's performance on each class.\n",
        "\n",
        "First, we need to download ImageNet."
      ]
    },
    {
      "cell_type": "code",
      "execution_count": null,
      "metadata": {
        "id": "HwAYptjCq-C_"
      },
      "outputs": [],
      "source": [
        "# # WARNING: takes ~20 minutes\n",
        "# !bash data/scripts/get_imagenet.sh --val"
      ]
    },
    {
      "cell_type": "code",
      "execution_count": null,
      "metadata": {
        "id": "CoHdKXWc8hrD"
      },
      "outputs": [],
      "source": [
        "# # run the validation script\n",
        "# !python classify/val.py --weights ./weigths/yolov5s-cls.pt --data ../datasets/imagenet"
      ]
    },
    {
      "cell_type": "markdown",
      "metadata": {
        "id": "r2coOcIjuzCO"
      },
      "source": [
        "The output shows accuracy metrics for the ImageNet validation dataset including per class accuracy."
      ]
    },
    {
      "cell_type": "markdown",
      "metadata": {
        "id": "9bXHHYeVDCXg"
      },
      "source": [
        "# 3. Train On Custom Data\n",
        "\n",
        "To train on custom data, we need to prepare a dataset with custom labels.\n",
        "\n",
        "To prepare custom data, we'll use [Roboflow](https://roboflow.com). Roboflow enables easy dataset prep with your team, including labeling, formatting into the right export format, deploying, and active learning with a `pip` package.\n",
        "\n",
        "If you need custom data, there are over 66M open source images from the community on [Roboflow Universe](https://universe.roboflow.com).\n",
        "\n",
        "(For more guidance, here's a detailed blog on [training YOLOv5 classification on custom data](https://blog.roboflow.com/train-YOLOv5-classification-custom-data).)\n",
        "\n",
        "\n",
        "Create a free Roboflow account, upload your data, and label.\n",
        "\n",
        "![](https://s4.gifyu.com/images/fruit-labeling.gif)"
      ]
    },
    {
      "cell_type": "markdown",
      "metadata": {
        "id": "Cu6-lrukD6Hc"
      },
      "source": [
        "### Load Custom Dataset\n",
        "\n",
        "Next, we'll export our dataset into the right directory structure for training YOLOv5 classification to load into this notebook. Select the `Export` button at the top of the version page, `Folder Structure` type, and `show download code`.\n",
        "\n",
        "The ensures all our directories are in the right format:\n",
        "\n",
        "```\n",
        "dataset\n",
        "├── train\n",
        "│   ├── class-one\n",
        "│   │   ├── IMG_123.jpg\n",
        "│   └── class-two\n",
        "│       ├── IMG_456.jpg\n",
        "├── valid\n",
        "│   ├── class-one\n",
        "│   │   ├── IMG_789.jpg\n",
        "│   └── class-two\n",
        "│       ├── IMG_101.jpg\n",
        "├── test\n",
        "│   ├── class-one\n",
        "│   │   ├── IMG_121.jpg\n",
        "│   └── class-two\n",
        "│       ├── IMG_341.jpg\n",
        "```\n",
        "\n",
        "![](https://i.imgur.com/BF9BNR8.gif)\n",
        "\n",
        "\n",
        "Copy and paste that snippet into the cell below."
      ]
    },
    {
      "cell_type": "code",
      "execution_count": null,
      "metadata": {
        "colab": {
          "base_uri": "https://localhost:8080/"
        },
        "id": "6IIgJbP7G6Th",
        "outputId": "1a2d7b36-523e-4b92-edca-b8be64169057"
      },
      "outputs": [
        {
          "name": "stdout",
          "output_type": "stream",
          "text": [
            "/content/datasets\n"
          ]
        }
      ],
      "source": [
        "# Ensure we're in the right directory to download our custom dataset\n",
        "import os\n",
        "os.makedirs(\"../datasets/\", exist_ok=True)\n",
        "%cd ../datasets/"
      ]
    },
    {
      "cell_type": "code",
      "execution_count": null,
      "metadata": {
        "colab": {
          "base_uri": "https://localhost:8080/"
        },
        "id": "He6JwHIlG-W_",
        "outputId": "f5e79e6e-7056-4341-cdcc-bfd9c4be7e22"
      },
      "outputs": [
        {
          "name": "stdout",
          "output_type": "stream",
          "text": [
            "Looking in indexes: https://pypi.org/simple, https://us-python.pkg.dev/colab-wheels/public/simple/\n",
            "Requirement already satisfied: roboflow in /usr/local/lib/python3.10/dist-packages (1.1.0)\n",
            "Requirement already satisfied: certifi==2022.12.7 in /usr/local/lib/python3.10/dist-packages (from roboflow) (2022.12.7)\n",
            "Requirement already satisfied: chardet==4.0.0 in /usr/local/lib/python3.10/dist-packages (from roboflow) (4.0.0)\n",
            "Requirement already satisfied: cycler==0.10.0 in /usr/local/lib/python3.10/dist-packages (from roboflow) (0.10.0)\n",
            "Requirement already satisfied: idna==2.10 in /usr/local/lib/python3.10/dist-packages (from roboflow) (2.10)\n",
            "Requirement already satisfied: kiwisolver>=1.3.1 in /usr/local/lib/python3.10/dist-packages (from roboflow) (1.4.4)\n",
            "Requirement already satisfied: matplotlib in /usr/local/lib/python3.10/dist-packages (from roboflow) (3.7.1)\n",
            "Requirement already satisfied: numpy>=1.18.5 in /usr/local/lib/python3.10/dist-packages (from roboflow) (1.22.4)\n",
            "Requirement already satisfied: opencv-python>=4.1.2 in /usr/local/lib/python3.10/dist-packages (from roboflow) (4.7.0.72)\n",
            "Requirement already satisfied: Pillow>=7.1.2 in /usr/local/lib/python3.10/dist-packages (from roboflow) (8.4.0)\n",
            "Requirement already satisfied: pyparsing==2.4.7 in /usr/local/lib/python3.10/dist-packages (from roboflow) (2.4.7)\n",
            "Requirement already satisfied: python-dateutil in /usr/local/lib/python3.10/dist-packages (from roboflow) (2.8.2)\n",
            "Requirement already satisfied: python-dotenv in /usr/local/lib/python3.10/dist-packages (from roboflow) (1.0.0)\n",
            "Requirement already satisfied: requests in /usr/local/lib/python3.10/dist-packages (from roboflow) (2.27.1)\n",
            "Requirement already satisfied: six in /usr/local/lib/python3.10/dist-packages (from roboflow) (1.16.0)\n",
            "Requirement already satisfied: supervision in /usr/local/lib/python3.10/dist-packages (from roboflow) (0.10.0)\n",
            "Requirement already satisfied: urllib3>=1.26.6 in /usr/local/lib/python3.10/dist-packages (from roboflow) (1.26.15)\n",
            "Requirement already satisfied: wget in /usr/local/lib/python3.10/dist-packages (from roboflow) (3.2)\n",
            "Requirement already satisfied: tqdm>=4.41.0 in /usr/local/lib/python3.10/dist-packages (from roboflow) (4.65.0)\n",
            "Requirement already satisfied: PyYAML>=5.3.1 in /usr/local/lib/python3.10/dist-packages (from roboflow) (6.0)\n",
            "Requirement already satisfied: requests-toolbelt in /usr/local/lib/python3.10/dist-packages (from roboflow) (1.0.0)\n",
            "Requirement already satisfied: contourpy>=1.0.1 in /usr/local/lib/python3.10/dist-packages (from matplotlib->roboflow) (1.0.7)\n",
            "Requirement already satisfied: fonttools>=4.22.0 in /usr/local/lib/python3.10/dist-packages (from matplotlib->roboflow) (4.39.3)\n",
            "Requirement already satisfied: packaging>=20.0 in /usr/local/lib/python3.10/dist-packages (from matplotlib->roboflow) (23.1)\n",
            "Requirement already satisfied: charset-normalizer~=2.0.0 in /usr/local/lib/python3.10/dist-packages (from requests->roboflow) (2.0.12)\n",
            "loading Roboflow workspace...\n",
            "loading Roboflow project...\n",
            "Downloading Dataset Version Zip in Smart-bin-1 to folder: 99% [458481664 / 460453339] bytes"
          ]
        },
        {
          "name": "stderr",
          "output_type": "stream",
          "text": [
            "Extracting Dataset Version Zip to Smart-bin-1 in folder:: 100%|██████████| 9611/9611 [00:04<00:00, 1986.70it/s]\n"
          ]
        }
      ],
      "source": [
        "# REPLACE the below with your exported code snippet from above\n",
        "!pip install roboflow\n",
        "\n",
        "from roboflow import Roboflow\n",
        "rf = Roboflow(api_key=\"tochange\")\n",
        "project = rf.workspace(\"tochange\").project(\"tochange\")\n",
        "dataset = project.version(1).download(\"folder\")"
      ]
    },
    {
      "cell_type": "code",
      "execution_count": null,
      "metadata": {
        "id": "wLQbThFICpn4"
      },
      "outputs": [],
      "source": [
        "#Save the dataset name to the environment so we can use it in a system call later\n",
        "dataset_smart_bin = dataset.location.split(os.sep)[-1]\n",
        "os.environ[\"DATASET_NAME\"] = dataset_smart_bin"
      ]
    },
    {
      "cell_type": "markdown",
      "metadata": {
        "id": "-5z7Yv42FGrK"
      },
      "source": [
        "### Train On Custom Data 🎉\n",
        "Here, we use the DATASET_NAME environment variable to pass our dataset to the `--data` parameter.\n",
        "\n",
        "Note: we're training for 100 epochs here. We're also starting training from the pretrained weights. Larger datasets will likely benefit from longer training."
      ]
    },
    {
      "cell_type": "code",
      "execution_count": null,
      "metadata": {
        "colab": {
          "base_uri": "https://localhost:8080/"
        },
        "id": "MXWTTN2BEaqe",
        "outputId": "a96de27d-415a-4107-bdac-88021aaca051"
      },
      "outputs": [
        {
          "name": "stdout",
          "output_type": "stream",
          "text": [
            "/datasets/yolov5/yolov5\n",
            "\u001b[34m\u001b[1mclassify/train: \u001b[0mmodel=yolov5s-cls.pt, data=Smart-bin-1, epochs=100, batch_size=64, imgsz=128, nosave=False, cache=None, device=, workers=8, project=runs/train-cls, name=exp, exist_ok=False, pretrained=weights/yolov5s-cls.pt, optimizer=Adam, lr0=0.001, decay=5e-05, label_smoothing=0.1, cutoff=None, dropout=None, verbose=False, seed=0, local_rank=-1\n",
            "\u001b[34m\u001b[1mgithub: \u001b[0mup to date with https://github.com/ultralytics/yolov5 ✅\n",
            "YOLOv5 🚀 v7.0-185-g2334aa7 Python-3.10.12 torch-2.0.1+cu118 CUDA:0 (Tesla T4, 15102MiB)\n",
            "\n",
            "\u001b[34m\u001b[1mTensorBoard: \u001b[0mStart with 'tensorboard --logdir runs/train-cls', view at http://localhost:6006/\n",
            "\u001b[34m\u001b[1malbumentations: \u001b[0mRandomResizedCrop(p=1.0, height=128, width=128, scale=(0.08, 1.0), ratio=(0.75, 1.3333333333333333), interpolation=1), HorizontalFlip(p=0.5), ColorJitter(p=0.5, brightness=[0.6, 1.4], contrast=[0.6, 1.4], saturation=[0.6, 1.4], hue=[0, 0]), Normalize(p=1.0, mean=(0.485, 0.456, 0.406), std=(0.229, 0.224, 0.225), max_pixel_value=255.0), ToTensorV2(always_apply=True, p=1.0, transpose_mask=False)\n",
            "Model summary: 149 layers, 4177604 parameters, 4177604 gradients, 10.5 GFLOPs\n",
            "\u001b[34m\u001b[1moptimizer:\u001b[0m Adam(lr=0.001) with parameter groups 32 weight(decay=0.0), 33 weight(decay=5e-05), 33 bias\n",
            "Image sizes 128 train, 128 test\n",
            "Using 1 dataloader workers\n",
            "Logging results to \u001b[1mruns/train-cls/exp2\u001b[0m\n",
            "Starting yolov5s-cls.pt training on Smart-bin-1 dataset with 4 classes for 100 epochs...\n",
            "\n",
            "     Epoch   GPU_mem  train_loss   test_loss    top1_acc    top5_acc\n",
            "     1/100    0.732G        1.35        1.51       0.369           1: 100% 131/131 [00:52<00:00,  2.48it/s]\n",
            "     2/100    0.732G         1.3        1.37       0.362           1: 100% 131/131 [00:51<00:00,  2.54it/s]\n",
            "     3/100    0.732G        1.29        1.28       0.433           1: 100% 131/131 [00:51<00:00,  2.55it/s]\n",
            "     4/100    0.732G        1.28        1.25       0.445           1: 100% 131/131 [00:50<00:00,  2.58it/s]\n",
            "     5/100    0.732G        1.25        1.37       0.433           1: 100% 131/131 [00:50<00:00,  2.57it/s]\n",
            "     6/100    0.732G        1.25        1.27       0.421           1: 100% 131/131 [00:52<00:00,  2.51it/s]\n",
            "     7/100    0.732G        1.24        1.26       0.417           1: 100% 131/131 [00:51<00:00,  2.56it/s]\n",
            "     8/100    0.732G        1.23        1.19       0.533           1: 100% 131/131 [00:51<00:00,  2.56it/s]\n",
            "     9/100    0.732G        1.22         1.2       0.507           1: 100% 131/131 [00:51<00:00,  2.57it/s]\n",
            "    10/100    0.732G         1.2        1.22       0.495           1: 100% 131/131 [00:53<00:00,  2.46it/s]\n",
            "    11/100    0.732G        1.19        1.27       0.507           1: 100% 131/131 [00:52<00:00,  2.50it/s]\n",
            "    12/100    0.732G        1.17        1.16        0.56           1: 100% 131/131 [00:51<00:00,  2.56it/s]\n",
            "    13/100    0.732G        1.16        1.15       0.548           1: 100% 131/131 [00:50<00:00,  2.60it/s]\n",
            "    14/100    0.732G        1.16        1.18       0.521           1: 100% 131/131 [00:51<00:00,  2.54it/s]\n",
            "    15/100    0.732G        1.12        1.31       0.479           1: 100% 131/131 [00:52<00:00,  2.48it/s]\n",
            "    16/100    0.732G        1.11        1.14        0.55           1: 100% 131/131 [00:51<00:00,  2.56it/s]\n",
            "    17/100    0.732G         1.1        1.15       0.571           1: 100% 131/131 [00:52<00:00,  2.48it/s]\n",
            "    18/100    0.732G        1.09        1.09       0.598           1: 100% 131/131 [00:55<00:00,  2.35it/s]\n",
            "    19/100    0.732G        1.08        1.14       0.567           1: 100% 131/131 [00:56<00:00,  2.31it/s]\n",
            "    20/100    0.732G        1.07         1.1       0.617           1: 100% 131/131 [00:56<00:00,  2.33it/s]\n",
            "    21/100    0.732G        1.06        1.04       0.643           1: 100% 131/131 [00:54<00:00,  2.40it/s]\n",
            "    22/100    0.732G        1.05        1.04       0.607           1: 100% 131/131 [00:53<00:00,  2.45it/s]\n",
            "    23/100    0.732G        1.04        1.03       0.626           1: 100% 131/131 [00:54<00:00,  2.40it/s]\n",
            "    24/100    0.732G        1.03        1.09       0.619           1: 100% 131/131 [00:53<00:00,  2.44it/s]\n",
            "    25/100    0.732G        1.03        1.08        0.65           1: 100% 131/131 [00:52<00:00,  2.48it/s]\n",
            "    26/100    0.732G        1.01        1.09       0.595           1: 100% 131/131 [00:52<00:00,  2.48it/s]\n",
            "    27/100    0.732G        1.01           1        0.64           1: 100% 131/131 [00:53<00:00,  2.43it/s]\n",
            "    28/100    0.732G        1.01       0.964        0.65           1: 100% 131/131 [00:52<00:00,  2.47it/s]\n",
            "    29/100    0.732G       0.991        1.02       0.621           1: 100% 131/131 [00:51<00:00,  2.53it/s]\n",
            "    30/100    0.732G       0.979        0.96       0.652           1: 100% 131/131 [00:50<00:00,  2.58it/s]\n",
            "    31/100    0.732G       0.969        0.91       0.676           1: 100% 131/131 [00:50<00:00,  2.58it/s]\n",
            "    32/100    0.732G       0.964       0.952       0.648           1: 100% 131/131 [00:52<00:00,  2.51it/s]\n",
            "    33/100    0.732G       0.964       0.894       0.717           1: 100% 131/131 [00:50<00:00,  2.58it/s]\n",
            "    34/100    0.732G       0.937        0.91       0.698           1: 100% 131/131 [00:49<00:00,  2.65it/s]\n",
            "    35/100    0.732G       0.932         0.9        0.71           1: 100% 131/131 [00:50<00:00,  2.58it/s]\n",
            "    36/100    0.732G       0.937       0.878       0.717           1: 100% 131/131 [00:51<00:00,  2.53it/s]\n",
            "    37/100    0.732G       0.935       0.933       0.705           1: 100% 131/131 [00:50<00:00,  2.60it/s]\n",
            "    38/100    0.732G       0.921       0.889        0.71           1: 100% 131/131 [00:52<00:00,  2.48it/s]\n",
            "    39/100    0.732G       0.901       0.903       0.721           1: 100% 131/131 [00:56<00:00,  2.33it/s]\n",
            "    40/100    0.732G       0.903       0.899         0.7           1: 100% 131/131 [00:57<00:00,  2.28it/s]\n",
            "    41/100    0.732G       0.894       0.879       0.736           1: 100% 131/131 [00:55<00:00,  2.37it/s]\n",
            "    42/100    0.732G       0.893       0.837       0.733           1: 100% 131/131 [00:55<00:00,  2.36it/s]\n",
            "    43/100    0.732G       0.886       0.878       0.707           1: 100% 131/131 [00:55<00:00,  2.37it/s]\n",
            "    44/100    0.732G       0.876       0.891       0.738           1: 100% 131/131 [00:55<00:00,  2.37it/s]\n",
            "    45/100    0.732G       0.872       0.874       0.717           1: 100% 131/131 [00:57<00:00,  2.27it/s]\n",
            "    46/100    0.732G       0.851       0.835       0.738           1: 100% 131/131 [00:56<00:00,  2.31it/s]\n",
            "    47/100    0.732G       0.861        0.83       0.731           1: 100% 131/131 [00:54<00:00,  2.39it/s]\n",
            "    48/100    0.732G       0.853        0.84       0.731           1: 100% 131/131 [00:54<00:00,  2.39it/s]\n",
            "    49/100    0.732G       0.847       0.812       0.755           1: 100% 131/131 [00:54<00:00,  2.39it/s]\n",
            "    50/100    0.732G       0.834       0.842       0.767           1: 100% 131/131 [00:54<00:00,  2.42it/s]\n",
            "    51/100    0.732G       0.837       0.788       0.748           1: 100% 131/131 [00:53<00:00,  2.47it/s]\n",
            "    52/100    0.732G       0.834       0.845       0.767           1: 100% 131/131 [00:51<00:00,  2.54it/s]\n",
            "    53/100    0.732G       0.822       0.816       0.764           1: 100% 131/131 [00:52<00:00,  2.51it/s]\n",
            "    54/100    0.732G       0.812       0.805       0.764           1: 100% 131/131 [00:51<00:00,  2.57it/s]\n",
            "    55/100    0.732G       0.807       0.819       0.764           1: 100% 131/131 [00:51<00:00,  2.56it/s]\n",
            "    56/100    0.732G       0.798       0.808       0.762           1: 100% 131/131 [00:52<00:00,  2.49it/s]\n",
            "    57/100    0.732G       0.807       0.816       0.779           1: 100% 131/131 [00:51<00:00,  2.56it/s]\n",
            "    58/100    0.732G       0.787       0.797       0.781           1: 100% 131/131 [00:52<00:00,  2.51it/s]\n",
            "    59/100    0.732G       0.774       0.763       0.795           1: 100% 131/131 [00:51<00:00,  2.57it/s]\n",
            "    60/100    0.732G       0.786        0.78       0.788           1: 100% 131/131 [00:50<00:00,  2.57it/s]\n",
            "    61/100    0.732G        0.77       0.772       0.788           1: 100% 131/131 [00:50<00:00,  2.58it/s]\n",
            "    62/100    0.732G       0.764       0.773       0.793           1: 100% 131/131 [00:49<00:00,  2.62it/s]\n",
            "    63/100    0.732G       0.768       0.801       0.783           1: 100% 131/131 [00:52<00:00,  2.49it/s]\n",
            "    64/100    0.732G       0.759       0.754       0.788           1: 100% 131/131 [00:50<00:00,  2.59it/s]\n",
            "    65/100    0.732G       0.748       0.735       0.781           1: 100% 131/131 [00:51<00:00,  2.56it/s]\n",
            "    66/100    0.732G       0.744       0.782       0.788           1: 100% 131/131 [00:51<00:00,  2.57it/s]\n",
            "    67/100    0.732G       0.746       0.746       0.788           1: 100% 131/131 [00:51<00:00,  2.52it/s]\n",
            "    68/100    0.732G       0.739       0.777       0.783           1: 100% 131/131 [00:52<00:00,  2.51it/s]\n",
            "    69/100    0.732G       0.734       0.768       0.783           1: 100% 131/131 [00:51<00:00,  2.57it/s]\n",
            "    70/100    0.732G       0.726       0.783       0.788           1: 100% 131/131 [00:50<00:00,  2.57it/s]\n",
            "    71/100    0.732G       0.735       0.776       0.776           1: 100% 131/131 [00:51<00:00,  2.55it/s]\n",
            "    72/100    0.732G       0.722       0.783       0.779           1: 100% 131/131 [00:50<00:00,  2.57it/s]\n",
            "    73/100    0.732G       0.713       0.728       0.781           1: 100% 131/131 [00:51<00:00,  2.57it/s]\n",
            "    74/100    0.732G       0.711       0.744       0.783           1: 100% 131/131 [00:56<00:00,  2.32it/s]\n",
            "    75/100    0.732G       0.704       0.762       0.781           1: 100% 131/131 [00:55<00:00,  2.34it/s]\n",
            "    76/100    0.732G       0.697       0.752       0.793           1: 100% 131/131 [00:55<00:00,  2.37it/s]\n",
            "    77/100    0.732G       0.686       0.769       0.783           1: 100% 131/131 [00:54<00:00,  2.38it/s]\n",
            "    78/100    0.732G       0.686       0.757       0.781           1: 100% 131/131 [00:56<00:00,  2.33it/s]\n",
            "    79/100    0.732G       0.696       0.766       0.783           1: 100% 131/131 [00:54<00:00,  2.42it/s]\n",
            "    80/100    0.732G       0.682       0.754       0.783           1: 100% 131/131 [00:58<00:00,  2.23it/s]\n",
            "    81/100    0.732G       0.672       0.778       0.776           1: 100% 131/131 [00:56<00:00,  2.33it/s]\n",
            "    82/100    0.732G       0.676       0.764       0.788           1: 100% 131/131 [00:55<00:00,  2.36it/s]\n",
            "    83/100    0.732G       0.665       0.766       0.786           1: 100% 131/131 [00:54<00:00,  2.39it/s]\n",
            "    84/100    0.732G        0.66       0.727       0.779           1: 100% 131/131 [00:53<00:00,  2.45it/s]\n",
            "    85/100    0.732G       0.662       0.736       0.786           1: 100% 131/131 [00:53<00:00,  2.43it/s]\n",
            "    86/100    0.732G       0.653       0.751       0.795           1: 100% 131/131 [00:51<00:00,  2.55it/s]\n",
            "    87/100    0.732G       0.657       0.766       0.788           1: 100% 131/131 [00:51<00:00,  2.54it/s]\n",
            "    88/100    0.732G        0.65       0.757       0.793           1: 100% 131/131 [00:51<00:00,  2.55it/s]\n",
            "    89/100    0.732G       0.646       0.749       0.788           1: 100% 131/131 [00:52<00:00,  2.47it/s]\n",
            "    90/100    0.732G       0.635        0.79         0.8           1: 100% 131/131 [00:53<00:00,  2.46it/s]\n",
            "    91/100    0.732G        0.63       0.771         0.8           1: 100% 131/131 [00:52<00:00,  2.50it/s]\n",
            "    92/100    0.732G        0.63       0.732       0.805           1: 100% 131/131 [00:52<00:00,  2.51it/s]\n",
            "    93/100    0.732G       0.622       0.735       0.802           1: 100% 131/131 [00:51<00:00,  2.54it/s]\n",
            "    94/100    0.732G       0.622       0.709       0.802           1: 100% 131/131 [00:54<00:00,  2.42it/s]\n",
            "    95/100    0.732G       0.627       0.734       0.805           1: 100% 131/131 [00:51<00:00,  2.56it/s]\n",
            "    96/100    0.732G       0.621       0.745         0.8           1: 100% 131/131 [00:50<00:00,  2.60it/s]\n",
            "    97/100    0.732G       0.612       0.728       0.802           1: 100% 131/131 [00:50<00:00,  2.60it/s]\n",
            "    98/100    0.732G       0.614       0.746       0.805           1: 100% 131/131 [00:50<00:00,  2.60it/s]\n",
            "    99/100    0.732G       0.607       0.736       0.807           1: 100% 131/131 [00:51<00:00,  2.56it/s]\n",
            "   100/100    0.732G       0.613       0.727       0.805           1: 100% 131/131 [00:51<00:00,  2.52it/s]\n",
            "\n",
            "Training complete (1.470 hours)\n",
            "Results saved to \u001b[1mruns/train-cls/exp2\u001b[0m\n",
            "Predict:         python classify/predict.py --weights runs/train-cls/exp2/weights/best.pt --source im.jpg\n",
            "Validate:        python classify/val.py --weights runs/train-cls/exp2/weights/best.pt --data /datasets/yolov5/datasets/Smart-bin-1\n",
            "Export:          python export.py --weights runs/train-cls/exp2/weights/best.pt --include onnx\n",
            "PyTorch Hub:     model = torch.hub.load('ultralytics/yolov5', 'custom', 'runs/train-cls/exp2/weights/best.pt')\n",
            "Visualize:       https://netron.app\n",
            "\n"
          ]
        }
      ],
      "source": [
        "%cd ../yolov5\n",
        "!python classify/train.py --model yolov5s-cls.pt --data $DATASET_NAME --epochs 100 --img 128 --pretrained weights/yolov5s-cls.pt"
      ]
    },
    {
      "cell_type": "markdown",
      "metadata": {
        "id": "HHUFGeLbGd98"
      },
      "source": [
        "### Validate Your Custom Model\n",
        "\n",
        "Repeat step 2 from above to test and validate your custom model."
      ]
    },
    {
      "cell_type": "code",
      "execution_count": null,
      "metadata": {
        "colab": {
          "base_uri": "https://localhost:8080/"
        },
        "id": "DIV7ydyKGZFL",
        "outputId": "5a6b1a0f-f801-4ed6-b5f2-d28e805b8e64"
      },
      "outputs": [
        {
          "name": "stdout",
          "output_type": "stream",
          "text": [
            "python3: can't open file '/content/datasets/classify/val.py': [Errno 2] No such file or directory\n"
          ]
        }
      ],
      "source": [
        "!python classify/val.py --weights runs/train-cls/exp/weights/best.pt --data ../datasets/Smart-bin-1/$DATASET_NAME"
      ]
    },
    {
      "cell_type": "markdown",
      "metadata": {
        "id": "uH5tJNpEsi6g"
      },
      "source": [
        "### Infer With Your Custom Model"
      ]
    },
    {
      "cell_type": "code",
      "execution_count": null,
      "metadata": {
        "colab": {
          "base_uri": "https://localhost:8080/"
        },
        "id": "81lK1hU_sk54",
        "outputId": "1d3ca4fa-4df6-40c1-f9ee-fbc7bdc38f8c"
      },
      "outputs": [
        {
          "name": "stdout",
          "output_type": "stream",
          "text": [
            "Inferring on an example of the class 'plastic'\n",
            "python3: can't open file '/content/datasets/classify/predict.py': [Errno 2] No such file or directory\n"
          ]
        }
      ],
      "source": [
        "#Get the path of an image from the test or validation set\n",
        "if os.path.exists(os.path.join(dataset.location, \"test\")):\n",
        "  split_path = os.path.join(dataset.location, \"test\")\n",
        "else:\n",
        "  os.path.join(dataset.location, \"valid\")\n",
        "example_class = os.listdir(split_path)[0]\n",
        "example_image_name = os.listdir(os.path.join(split_path, example_class))[0]\n",
        "example_image_path = os.path.join(split_path, example_class, example_image_name)\n",
        "os.environ[\"TEST_IMAGE_PATH\"] = example_image_path\n",
        "\n",
        "print(f\"Inferring on an example of the class '{example_class}'\")\n",
        "\n",
        "#Infer\n",
        "!python classify/predict.py --weights runs/train-cls/exp/weights/best.pt --source $TEST_IMAGE_PATH"
      ]
    },
    {
      "cell_type": "markdown",
      "metadata": {
        "id": "DdGuG-1kNjWT"
      },
      "source": [
        "We can see the inference results show ~3ms inference and the respective classes predicted probabilities."
      ]
    },
    {
      "cell_type": "markdown",
      "metadata": {
        "id": "I38IM6NXKNN9"
      },
      "source": [
        "## (OPTIONAL) Improve Our Model with Active Learning\n",
        "\n",
        "Now that we've trained our model once, we will want to continue to improve its performance. Improvement is largely dependent on improving our dataset.\n",
        "\n",
        "We can programmatically upload example failure images back to our custom dataset based on conditions (like seeing an underrpresented class or a low confidence score) using the same `pip` package."
      ]
    },
    {
      "cell_type": "code",
      "execution_count": null,
      "metadata": {
        "id": "HycgSEnYKo0J"
      },
      "outputs": [],
      "source": [
        "# # Upload example image\n",
        "project.upload('/content/composition-plastic-waste-pollution-sorting-recycling-disposable-bottles-water-ecological-concept-flat-lay-top-view-164138531.jpg')\n"
      ]
    },
    {
      "cell_type": "code",
      "execution_count": null,
      "metadata": {
        "colab": {
          "base_uri": "https://localhost:8080/",
          "height": 235
        },
        "id": "VwXDoz_vLK3V",
        "outputId": "eae9091e-2701-4788-d4e0-9f8f2d474925"
      },
      "outputs": [
        {
          "ename": "NameError",
          "evalue": "ignored",
          "output_type": "error",
          "traceback": [
            "\u001b[0;31m---------------------------------------------------------------------------\u001b[0m",
            "\u001b[0;31mNameError\u001b[0m                                 Traceback (most recent call last)",
            "\u001b[0;32m<ipython-input-26-a81d6db8e9e7>\u001b[0m in \u001b[0;36m<cell line: 3>\u001b[0;34m()\u001b[0m\n\u001b[1;32m      1\u001b[0m \u001b[0;31m# # Example upload code\u001b[0m\u001b[0;34m\u001b[0m\u001b[0;34m\u001b[0m\u001b[0m\n\u001b[1;32m      2\u001b[0m \u001b[0mmin_conf\u001b[0m \u001b[0;34m=\u001b[0m \u001b[0mfloat\u001b[0m\u001b[0;34m(\u001b[0m\u001b[0;34m\"inf\"\u001b[0m\u001b[0;34m)\u001b[0m\u001b[0;34m\u001b[0m\u001b[0;34m\u001b[0m\u001b[0m\n\u001b[0;32m----> 3\u001b[0;31m \u001b[0;32mfor\u001b[0m \u001b[0mpred\u001b[0m \u001b[0;32min\u001b[0m \u001b[0mResults\u001b[0m\u001b[0;34m:\u001b[0m\u001b[0;34m\u001b[0m\u001b[0;34m\u001b[0m\u001b[0m\n\u001b[0m\u001b[1;32m      4\u001b[0m     \u001b[0;32mif\u001b[0m \u001b[0mpred\u001b[0m\u001b[0;34m[\u001b[0m\u001b[0;34m\"score\"\u001b[0m\u001b[0;34m]\u001b[0m \u001b[0;34m<\u001b[0m \u001b[0mmin_conf\u001b[0m\u001b[0;34m:\u001b[0m\u001b[0;34m\u001b[0m\u001b[0;34m\u001b[0m\u001b[0m\n\u001b[1;32m      5\u001b[0m         \u001b[0mmin_conf\u001b[0m \u001b[0;34m=\u001b[0m \u001b[0mpred\u001b[0m\u001b[0;34m[\u001b[0m\u001b[0;34m\"score\"\u001b[0m\u001b[0;34m]\u001b[0m\u001b[0;34m\u001b[0m\u001b[0;34m\u001b[0m\u001b[0m\n",
            "\u001b[0;31mNameError\u001b[0m: name 'Results' is not defined"
          ]
        }
      ],
      "source": [
        "# # Example upload code\n",
        "min_conf = float(\"inf\")\n",
        "for pred in results:\n",
        "    if pred[\"score\"] < min_conf:\n",
        "        min_conf = pred[\"score\"]\n",
        "if min_conf < 0.4:\n",
        "    project.upload(image_path)"
      ]
    },
    {
      "cell_type": "markdown",
      "metadata": {
        "id": "aYlfaHDusN-j"
      },
      "source": [
        "# (BONUS) YOLOv5 classify/predict.py Accepts Several Input Methods\n",
        "- Webcam: `python classify/predict.py --weights yolov5s-cls.pt --source 0`\n",
        "- Image `python classify/predict.py --weights yolov5s-cls.pt --source img.jpg`\n",
        "- Video: `python classify/predict.py --weights yolov5s-cls.pt --source vid.mp4`\n",
        "- Directory: `python classify/predict.py --weights yolov5s-cls.pt --source path/`\n",
        "- Glob: `python classify/predict.py --weights yolov5s-cls.pt --source 'path/*.jpg'`\n",
        "- YouTube: `python classify/predict.py --weights yolov5s-cls.pt --source 'https://youtu.be/Zgi9g1ksQHc'`\n",
        "- RTSP, RTMP, HTTP stream: `python classify/predict.py --weights yolov5s-cls.pt --source 'rtsp://example.com/media.mp4'`"
      ]
    },
    {
      "cell_type": "markdown",
      "metadata": {
        "id": "iKSP-SNTvcLJ"
      },
      "source": [
        "###Directory Example"
      ]
    },
    {
      "cell_type": "code",
      "execution_count": null,
      "metadata": {
        "id": "lwSoHcHcvjeD"
      },
      "outputs": [],
      "source": [
        "#Directory infer\n",
        "os.environ[\"TEST_CLASS_PATH\"] = test_class_path = os.path.join(*os.environ[\"TEST_IMAGE_PATH\"].split(os.sep)[:-1])\n",
        "print(f\"Infering on all images from the directory {os.environ['TEST_CLASS_PATH']}\")\n",
        "!python classify/predict.py --weights runs/train-cls/exp/weights/best.pt --source /$TEST_CLASS_PATH/"
      ]
    },
    {
      "cell_type": "markdown",
      "metadata": {
        "id": "kCCao9t8se8i"
      },
      "source": [
        "###YouTube Example"
      ]
    },
    {
      "cell_type": "code",
      "execution_count": null,
      "metadata": {
        "id": "heebjpJBsakV"
      },
      "outputs": [],
      "source": [
        "#YouTube infer\n",
        "!python classify/predict.py --weights runs/train-cls/exp/weights/best.pt --source 'https://www.youtube.com/watch?v=7AlYA4ItA74'"
      ]
    }
  ],
  "metadata": {
    "accelerator": "GPU",
    "colab": {
      "provenance": []
    },
    "gpuClass": "standard",
    "kernelspec": {
      "display_name": "Python 3",
      "name": "python3"
    },
    "language_info": {
      "name": "python"
    }
  },
  "nbformat": 4,
  "nbformat_minor": 0
}
